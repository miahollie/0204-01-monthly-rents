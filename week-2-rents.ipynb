{
 "cells": [
  {
   "cell_type": "markdown",
   "id": "44ab053d",
   "metadata": {},
   "source": [
    "How much Alfred pays for rent each month, as a percentage of the total amount of rent:"
   ]
  },
  {
   "cell_type": "code",
   "execution_count": 1,
   "id": "c11215f3",
   "metadata": {},
   "outputs": [
    {
     "data": {
      "text/plain": [
       "25.0"
      ]
     },
     "execution_count": 1,
     "metadata": {},
     "output_type": "execute_result"
    }
   ],
   "source": [
    "(700/(900+1_200+700))*100"
   ]
  },
  {
   "cell_type": "markdown",
   "id": "b11981a4",
   "metadata": {},
   "source": [
    "The idea is to give meaningful names so you aren't confuded by what they stand for. \n",
    "- They ARE case sensitive. \n",
    "- cannot begin with numbers. \n",
    "- make them unique. \n",
    "- some words cannot be used in variables: break, global, class, continue, false, yield, while, true, return, lambda, not, or, raise, import, from, for, except, as, in, is...\n",
    "- no spaces between words, no compound words\n",
    "    - camelCase is best (monthlyExpsensesSandeep)\n",
    "    - also underscores or snake_case (monthly_expenses_sandeep)"
   ]
  },
  {
   "cell_type": "code",
   "execution_count": 2,
   "id": "803b3c02",
   "metadata": {},
   "outputs": [],
   "source": [
    "## you can assign values like this: \n",
    "\n",
    "alfred_monthly_23 = 900\n",
    "fatima_monthly_23 = 1_200\n",
    "trina_monthly_23 = 700"
   ]
  },
  {
   "cell_type": "code",
   "execution_count": 3,
   "id": "bb43864a",
   "metadata": {},
   "outputs": [],
   "source": [
    "## or like this:\n",
    "\n",
    "alfred_m, fatima_m, trina_m = 900, 1_200, 700"
   ]
  },
  {
   "cell_type": "code",
   "execution_count": 4,
   "id": "b60f636d",
   "metadata": {},
   "outputs": [
    {
     "data": {
      "text/plain": [
       "900"
      ]
     },
     "execution_count": 4,
     "metadata": {},
     "output_type": "execute_result"
    }
   ],
   "source": [
    "alfred_m"
   ]
  },
  {
   "cell_type": "code",
   "execution_count": 5,
   "id": "371b2f34",
   "metadata": {},
   "outputs": [
    {
     "data": {
      "text/plain": [
       "1200"
      ]
     },
     "execution_count": 5,
     "metadata": {},
     "output_type": "execute_result"
    }
   ],
   "source": [
    "fatima_monthly_23"
   ]
  },
  {
   "cell_type": "code",
   "execution_count": 6,
   "id": "0c51a07f",
   "metadata": {},
   "outputs": [
    {
     "data": {
      "text/plain": [
       "1200"
      ]
     },
     "execution_count": 6,
     "metadata": {},
     "output_type": "execute_result"
    }
   ],
   "source": [
    "fatima_m"
   ]
  },
  {
   "cell_type": "code",
   "execution_count": 7,
   "id": "e5c42211",
   "metadata": {},
   "outputs": [
    {
     "data": {
      "text/plain": [
       "1200"
      ]
     },
     "execution_count": 7,
     "metadata": {},
     "output_type": "execute_result"
    }
   ],
   "source": [
    "fatima_monthly_23"
   ]
  },
  {
   "cell_type": "code",
   "execution_count": 8,
   "id": "eb6f5ca0",
   "metadata": {},
   "outputs": [
    {
     "data": {
      "text/plain": [
       "25.0"
      ]
     },
     "execution_count": 8,
     "metadata": {},
     "output_type": "execute_result"
    }
   ],
   "source": [
    "## calculate trina's share using variables\n",
    "(trina_monthly_23/(alfred_m+fatima_m+trina_m))*100"
   ]
  },
  {
   "cell_type": "code",
   "execution_count": 9,
   "id": "bbd861ca",
   "metadata": {},
   "outputs": [
    {
     "data": {
      "text/plain": [
       "25.0"
      ]
     },
     "execution_count": 9,
     "metadata": {},
     "output_type": "execute_result"
    }
   ],
   "source": [
    "trina_monthly_23/(alfred_m+fatima_m+trina_m)*100"
   ]
  },
  {
   "cell_type": "code",
   "execution_count": 10,
   "id": "be314293",
   "metadata": {},
   "outputs": [],
   "source": [
    "## place result into a variable \n",
    "trina_share_23 = (trina_monthly_23/(alfred_m+fatima_m+trina_m))*100"
   ]
  },
  {
   "cell_type": "code",
   "execution_count": 11,
   "id": "d04e7bd9",
   "metadata": {},
   "outputs": [
    {
     "data": {
      "text/plain": [
       "25.0"
      ]
     },
     "execution_count": 11,
     "metadata": {},
     "output_type": "execute_result"
    }
   ],
   "source": [
    "trina_share_23"
   ]
  },
  {
   "cell_type": "code",
   "execution_count": 13,
   "id": "1210c699",
   "metadata": {},
   "outputs": [
    {
     "ename": "SyntaxError",
     "evalue": "unmatched ')' (1927723337.py, line 5)",
     "output_type": "error",
     "traceback": [
      "\u001b[0;36m  Cell \u001b[0;32mIn[13], line 5\u001b[0;36m\u001b[0m\n\u001b[0;31m    trina_m))*100\u001b[0m\n\u001b[0m            ^\u001b[0m\n\u001b[0;31mSyntaxError\u001b[0m\u001b[0;31m:\u001b[0m unmatched ')'\n"
     ]
    }
   ],
   "source": [
    "## easier to read: \n",
    "trina_share_23 = \\\n",
    "trina_monthly_23/(alfred_m+\\\n",
    "                  fatima_m+\\\n",
    "                  trina_m))*100"
   ]
  },
  {
   "cell_type": "code",
   "execution_count": null,
   "id": "5c83223d",
   "metadata": {},
   "outputs": [],
   "source": [
    "## print function\n",
    "\n",
    "print(\"hello word\")"
   ]
  },
  {
   "cell_type": "markdown",
   "id": "d1523b2b",
   "metadata": {},
   "source": [
    "f-string literals (or f-strings)\n",
    "print(f\"some identifier words: {actual_variable}\")"
   ]
  },
  {
   "cell_type": "code",
   "execution_count": 16,
   "id": "1375dca4",
   "metadata": {},
   "outputs": [
    {
     "name": "stdout",
     "output_type": "stream",
     "text": [
      "Trina's rent: $700\n",
      "Trina pays 25.0 percent of the total rent\n"
     ]
    }
   ],
   "source": [
    "## print variables\n",
    "print(f\"Trina's rent: ${trina_monthly_23}\")\n",
    "print(f\"Trina pays {trina_share_23} percent of the total rent\")"
   ]
  },
  {
   "cell_type": "code",
   "execution_count": 20,
   "id": "6522d985",
   "metadata": {},
   "outputs": [
    {
     "name": "stdout",
     "output_type": "stream",
     "text": [
      "The total monthly rent is:$2,800\n"
     ]
    }
   ],
   "source": [
    "## f-strings also do calculations:\n",
    "\n",
    "print(f\"The total monthly rent is:\\\n",
    "${alfred_monthly_23+fatima_monthly_23+trina_monthly_23:,}\")"
   ]
  },
  {
   "cell_type": "code",
   "execution_count": null,
   "id": "66cd7d33",
   "metadata": {},
   "outputs": [],
   "source": []
  }
 ],
 "metadata": {
  "kernelspec": {
   "display_name": "Python 3 (ipykernel)",
   "language": "python",
   "name": "python3"
  },
  "language_info": {
   "codemirror_mode": {
    "name": "ipython",
    "version": 3
   },
   "file_extension": ".py",
   "mimetype": "text/x-python",
   "name": "python",
   "nbconvert_exporter": "python",
   "pygments_lexer": "ipython3",
   "version": "3.11.5"
  }
 },
 "nbformat": 4,
 "nbformat_minor": 5
}
